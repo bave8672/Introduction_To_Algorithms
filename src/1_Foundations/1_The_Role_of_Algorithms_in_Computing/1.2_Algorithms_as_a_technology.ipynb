{
 "cells": [
  {
   "cell_type": "markdown",
   "metadata": {},
   "source": [
    "### 1.2-1\n",
    "\n",
    "> Give an example of an application that requires algorithmic content at the application\n",
    "level, and discuss the function of the algorithms involved.\n",
    "\n",
    "- In databases, sorting algorithms are used when indexing the data.\n",
    "- In video game AI, path finding alorithms are used to calculate paths for characters around maps\n",
    "- Fourier transform in sound engineering - used to allow filtering/equalisation.\n",
    "\n",
    "### 1.2-2\n",
    "\n",
    "> Suppose we are comparing implementations of insertion sort and merge sort on the\n",
    "same machine. For inputs of size n, insertion sort runs in 8n2 steps, while merge\n",
    "sort runs in 64n lg n steps. For which values of n does insertion sort beat merge\n",
    "sort?"
   ]
  },
  {
   "cell_type": "code",
   "execution_count": 7,
   "metadata": {
    "kernel": "Python3"
   },
   "outputs": [
    {
     "data": {
      "text/latex": [
       "\n",
       "$\\begin{array}{l}\n",
       "I( n) =8n^{2}\\\\\n",
       "M( n) =64n\\ln( n)\\\\\n",
       "\\\\\n",
       "M( n) < I( n)\\\\\n",
       "64n\\ ln( n) < 8n^{2}\\\\\n",
       "\\\\\n",
       "\\mathrm{( graphically)}\\\\\n",
       "n< 26\n",
       "\\end{array}$"
      ],
      "text/plain": [
       "<IPython.core.display.Latex object>"
      ]
     },
     "metadata": {},
     "output_type": "display_data"
    }
   ],
   "source": [
    "%%latex\n",
    "\n",
    "$\\begin{array}{l}\n",
    "I( n) =8n^{2}\\\\\n",
    "M( n) =64n\\ln( n)\\\\\n",
    "\\\\\n",
    "M( n) < I( n)\\\\\n",
    "64n\\ ln( n) < 8n^{2}\\\\\n",
    "\\\\\n",
    "\\mathrm{( graphically)}\\\\\n",
    "n< 26\n",
    "\\end{array}$"
   ]
  },
  {
   "cell_type": "markdown",
   "metadata": {
    "kernel": "Python3"
   },
   "source": [
    "### 1.2-3\n",
    "\n",
    "> What is the smallest value of n such that an algorithm whose running time is 100n2\n",
    "runs faster than an algorithm whose running time is 2n on the same machine?"
   ]
  },
  {
   "cell_type": "code",
   "execution_count": 12,
   "metadata": {
    "kernel": "Python3"
   },
   "outputs": [
    {
     "data": {
      "text/latex": [
       "\n",
       "$\\begin{array}{l}\n",
       "100n^{2} < 2^{n}\\\\\n",
       "n >20519\\ \\mathrm{( graphically)}\n",
       "\\end{array}$"
      ],
      "text/plain": [
       "<IPython.core.display.Latex object>"
      ]
     },
     "metadata": {},
     "output_type": "display_data"
    }
   ],
   "source": [
    "%%latex\n",
    "\n",
    "$\\begin{array}{l}\n",
    "100n^{2} < 2^{n}\\\\\n",
    "n >20519\\ \\mathrm{( graphically)}\n",
    "\\end{array}$"
   ]
  },
  {
   "cell_type": "code",
   "execution_count": null,
   "metadata": {},
   "outputs": [],
   "source": []
  },
  {
   "cell_type": "code",
   "execution_count": null,
   "metadata": {},
   "outputs": [],
   "source": []
  }
 ],
 "metadata": {
  "kernelspec": {
   "display_name": "SoS",
   "language": "sos",
   "name": "sos"
  },
  "language_info": {
   "codemirror_mode": "sos",
   "file_extension": ".sos",
   "mimetype": "text/x-sos",
   "name": "sos",
   "nbconvert_exporter": "sos_notebook.converter.SoS_Exporter",
   "pygments_lexer": "sos"
  },
  "sos": {
   "default_kernel": "SoS",
   "kernels": [],
   "panel": {
    "displayed": true,
    "height": 0,
    "style": "side"
   },
   "version": "0.9.13.3"
  }
 },
 "nbformat": 4,
 "nbformat_minor": 2
}
