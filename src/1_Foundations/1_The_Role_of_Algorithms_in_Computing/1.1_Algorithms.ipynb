{
 "cells": [
  {
   "cell_type": "markdown",
   "metadata": {},
   "source": [
    "### 1.1-1\n",
    "\n",
    "> Give a real-world example that requires sorting or a real-world example that requires\n",
    "computing a convex hull.\n",
    "\n",
    "Sorting:\n",
    "- UI inputs (e.g. sorting addresses alphabetically)\n",
    "- Calculating the first (or last) element, e.g. given a scoring algorithm, determine the player with the best score.\n",
    "\n",
    "Convex hull:\n",
    "- Navigation around an object or collection of objects\n",
    "\n",
    "### 1.1-2\n",
    "\n",
    "> Other than speed, what other measures of efficiency might one use in a real-world\n",
    "setting?\n",
    "\n",
    "- Memory consumoption\n",
    "- Power consumption\n",
    "- Complexity of implementation\n",
    "- Fixed/Linear overhead for small batch computations\n",
    "\n",
    "### 1.1-3\n",
    "\n",
    "> Select a data structure that you have seen previously, and discuss its strengths and\n",
    "limitations.\n",
    "\n",
    "Advantages of a binary tree\n",
    "- O(1) Insert and delete at start and end of list\n",
    "\n",
    "Disadvantages of a binary tree\n",
    "- O(n) Search, indexing\n",
    "\n",
    "### 1.1-4\n",
    "\n",
    "> How are the shortest-path and traveling-salesman problems given above similar?\n",
    "How are they different?\n",
    "\n",
    "Both problems involve finding a shortest path given a set of points, however the travelling salesman problem requires that the path include every point.\n",
    "\n",
    "### 1.1-5\n",
    "\n",
    "> Come up with a real-world problem in which only the best solution will do. Then\n",
    "come up with one in which a solution that is “approximately” the best is good\n",
    "enough.\n",
    "\n",
    "Problems requiring accuracy:\n",
    "- Sorting\n",
    "\n",
    "Problems not requireing perfect accuracy:\n",
    "- NP-complete problems e.g. travelling salesman\n",
    "- Stochastic and estimation problems e.g. number of page hits"
   ]
  }
 ],
 "metadata": {
  "kernelspec": {
   "display_name": "SoS",
   "language": "sos",
   "name": "sos"
  },
  "language_info": {
   "codemirror_mode": "sos",
   "file_extension": ".sos",
   "mimetype": "text/x-sos",
   "name": "sos",
   "nbconvert_exporter": "sos_notebook.converter.SoS_Exporter",
   "pygments_lexer": "sos"
  },
  "sos": {
   "default_kernel": "SoS",
   "kernels": [],
   "panel": {
    "displayed": true,
    "height": 0,
    "style": "side"
   },
   "version": "0.9.13.3"
  }
 },
 "nbformat": 4,
 "nbformat_minor": 2
}
